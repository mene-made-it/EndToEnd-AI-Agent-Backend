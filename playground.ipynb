{
 "cells": [
  {
   "cell_type": "code",
   "id": "initial_id",
   "metadata": {
    "collapsed": true,
    "ExecuteTime": {
     "end_time": "2025-06-19T18:43:36.411391Z",
     "start_time": "2025-06-19T18:43:36.317739Z"
    }
   },
   "source": [
    "from os import walk, getcwd\n",
    "import os\n",
    "\n",
    "f = []\n",
    "layer = 1\n",
    "w = walk(getcwd())\n",
    "for (dirpath, dirnames, filenames) in w:\n",
    "    if  \".venv\" in dirpath:\n",
    "        pass\n",
    "    else:\n",
    "        print(dirpath)\n",
    "    layer += 1\n"
   ],
   "outputs": [
    {
     "name": "stdout",
     "output_type": "stream",
     "text": [
      "C:\\Users\\gianl\\PycharmProjects\\EndToEnd-AI-Agent-Backend\n",
      "C:\\Users\\gianl\\PycharmProjects\\EndToEnd-AI-Agent-Backend\\.git\n",
      "C:\\Users\\gianl\\PycharmProjects\\EndToEnd-AI-Agent-Backend\\.git\\hooks\n",
      "C:\\Users\\gianl\\PycharmProjects\\EndToEnd-AI-Agent-Backend\\.git\\info\n",
      "C:\\Users\\gianl\\PycharmProjects\\EndToEnd-AI-Agent-Backend\\.git\\logs\n",
      "C:\\Users\\gianl\\PycharmProjects\\EndToEnd-AI-Agent-Backend\\.git\\logs\\refs\n",
      "C:\\Users\\gianl\\PycharmProjects\\EndToEnd-AI-Agent-Backend\\.git\\logs\\refs\\heads\n",
      "C:\\Users\\gianl\\PycharmProjects\\EndToEnd-AI-Agent-Backend\\.git\\logs\\refs\\remotes\n",
      "C:\\Users\\gianl\\PycharmProjects\\EndToEnd-AI-Agent-Backend\\.git\\logs\\refs\\remotes\\origin\n",
      "C:\\Users\\gianl\\PycharmProjects\\EndToEnd-AI-Agent-Backend\\.git\\objects\n",
      "C:\\Users\\gianl\\PycharmProjects\\EndToEnd-AI-Agent-Backend\\.git\\objects\\18\n",
      "C:\\Users\\gianl\\PycharmProjects\\EndToEnd-AI-Agent-Backend\\.git\\objects\\54\n",
      "C:\\Users\\gianl\\PycharmProjects\\EndToEnd-AI-Agent-Backend\\.git\\objects\\86\n",
      "C:\\Users\\gianl\\PycharmProjects\\EndToEnd-AI-Agent-Backend\\.git\\objects\\ae\n",
      "C:\\Users\\gianl\\PycharmProjects\\EndToEnd-AI-Agent-Backend\\.git\\objects\\bd\n",
      "C:\\Users\\gianl\\PycharmProjects\\EndToEnd-AI-Agent-Backend\\.git\\objects\\d9\n",
      "C:\\Users\\gianl\\PycharmProjects\\EndToEnd-AI-Agent-Backend\\.git\\objects\\info\n",
      "C:\\Users\\gianl\\PycharmProjects\\EndToEnd-AI-Agent-Backend\\.git\\objects\\pack\n",
      "C:\\Users\\gianl\\PycharmProjects\\EndToEnd-AI-Agent-Backend\\.git\\refs\n",
      "C:\\Users\\gianl\\PycharmProjects\\EndToEnd-AI-Agent-Backend\\.git\\refs\\heads\n",
      "C:\\Users\\gianl\\PycharmProjects\\EndToEnd-AI-Agent-Backend\\.git\\refs\\remotes\n",
      "C:\\Users\\gianl\\PycharmProjects\\EndToEnd-AI-Agent-Backend\\.git\\refs\\remotes\\origin\n",
      "C:\\Users\\gianl\\PycharmProjects\\EndToEnd-AI-Agent-Backend\\.git\\refs\\tags\n",
      "C:\\Users\\gianl\\PycharmProjects\\EndToEnd-AI-Agent-Backend\\.idea\n",
      "C:\\Users\\gianl\\PycharmProjects\\EndToEnd-AI-Agent-Backend\\.idea\\inspectionProfiles\n",
      "C:\\Users\\gianl\\PycharmProjects\\EndToEnd-AI-Agent-Backend\\src\n",
      "C:\\Users\\gianl\\PycharmProjects\\EndToEnd-AI-Agent-Backend\\src\\agent\n",
      "C:\\Users\\gianl\\PycharmProjects\\EndToEnd-AI-Agent-Backend\\src\\llm\n",
      "C:\\Users\\gianl\\PycharmProjects\\EndToEnd-AI-Agent-Backend\\src\\rag\n",
      "C:\\Users\\gianl\\PycharmProjects\\EndToEnd-AI-Agent-Backend\\src\\tools\n",
      "C:\\Users\\gianl\\PycharmProjects\\EndToEnd-AI-Agent-Backend\\src\\utils\n",
      "C:\\Users\\gianl\\PycharmProjects\\EndToEnd-AI-Agent-Backend\\src\\vectordb\n",
      "C:\\Users\\gianl\\PycharmProjects\\EndToEnd-AI-Agent-Backend\\tests\n",
      "C:\\Users\\gianl\\PycharmProjects\\EndToEnd-AI-Agent-Backend\\tests\\integration\n",
      "C:\\Users\\gianl\\PycharmProjects\\EndToEnd-AI-Agent-Backend\\tests\\unit\n"
     ]
    }
   ],
   "execution_count": 25
  }
 ],
 "metadata": {
  "kernelspec": {
   "display_name": "Python 3",
   "language": "python",
   "name": "python3"
  },
  "language_info": {
   "codemirror_mode": {
    "name": "ipython",
    "version": 2
   },
   "file_extension": ".py",
   "mimetype": "text/x-python",
   "name": "python",
   "nbconvert_exporter": "python",
   "pygments_lexer": "ipython2",
   "version": "2.7.6"
  }
 },
 "nbformat": 4,
 "nbformat_minor": 5
}
